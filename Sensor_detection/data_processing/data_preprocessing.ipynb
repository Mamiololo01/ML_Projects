{
 "cells": [
  {
   "cell_type": "markdown",
   "metadata": {},
   "source": [
    "##### Import required modules"
   ]
  },
  {
   "cell_type": "code",
   "execution_count": 1,
   "metadata": {},
   "outputs": [],
   "source": [
    "import scipy.io\n",
    "import pandas as pd\n",
    "import numpy as np \n",
    "import matplotlib.pyplot as plt"
   ]
  },
  {
   "cell_type": "markdown",
   "metadata": {},
   "source": [
    "Checking the data details"
   ]
  },
  {
   "cell_type": "code",
   "execution_count": null,
   "metadata": {},
   "outputs": [],
   "source": [
    "data = scipy.io.loadmat('D:\\design lab\\case1_10.mat')\n",
    "\n",
    "print(data.keys())\n",
    "print(data[\"__header__\"])\n",
    "print(data[\"__version__\"])\n",
    "print(data[\"__globals__\"])\n",
    "a=data[\"array\"]\n",
    "print(type(data[\"array\"])) \n",
    "data[\"array\"].shape"
   ]
  },
  {
   "cell_type": "markdown",
   "metadata": {},
   "source": [
    "visualising the data"
   ]
  },
  {
   "cell_type": "code",
   "execution_count": null,
   "metadata": {},
   "outputs": [],
   "source": [
    "print(type(a[0][0]))\n",
    "# a[0][0][\"Amp\"][0].shape\n",
    "Amp_data=a[0][0][\"Amp\"][0].reshape(-1)\n",
    "print(type(Amp_data),Amp_data.shape)\n",
    "\n",
    "DifferenceAmp_data=data[\"array\"][0][0][\"DifferenceAmp\"][0]\n",
    "Phase_data=data[\"array\"][0][0][\"Phase\"][0]\n",
    "DiffPhase_data=data[\"array\"][0][0][\"DiffPhase\"][0]\n",
    "\n",
    "\n",
    "# fig, axs = plt.subplots(2, 2,gridspec_kw={'width_ratios': [10, 10]})\n",
    "fig, axs = plt.subplots(2, 2, figsize = (15, 10))\n",
    "axs[0, 0].plot(Amp_data)\n",
    "axs[0, 0].set_title('Amplitude')\n",
    "axs[0, 1].plot(Phase_data, 'tab:orange')\n",
    "axs[0, 1].set_title('Phase')\n",
    "axs[1, 0].plot(DifferenceAmp_data, 'tab:green')\n",
    "axs[1, 0].set_title('Difference Amplitude')\n",
    "axs[1, 1].plot(DiffPhase_data, 'tab:red')\n",
    "axs[1, 1].set_title('Differnece Phase')\n",
    "\n",
    "plt.subplots_adjust(left=0.1, \n",
    "                    bottom=0.1,  \n",
    "                    right=0.9,  \n",
    "                    top=0.9,  \n",
    "                    wspace=0.4,  \n",
    "                    hspace=0.4) \n",
    "\n",
    "plt.plot()"
   ]
  },
  {
   "cell_type": "markdown",
   "metadata": {},
   "source": [
    "Creating dataframe and adding data for Deep learning model"
   ]
  },
  {
   "cell_type": "code",
   "execution_count": null,
   "metadata": {},
   "outputs": [],
   "source": [
    "# creating data frame\n",
    "col =list()\n",
    "\n",
    "for i in range(1,98):\n",
    "    col.append(\"z\"+str(i))\n",
    "col.extend([\"start_point\",\"end_point\"])\n",
    "col.append(\"isIntrusion\")\n",
    "col.append(\"intrusion_zone\")\n",
    "df= pd.DataFrame(columns=col)\n",
    "\n",
    "for zone in range(0,97,10):\n",
    "    path = f\"D:\\design lab\\case1_{zone}.mat\"\n",
    "    data = scipy.io.loadmat(path)\n",
    "    data= data[\"array\"]\n",
    "    for i in range(0,100):\n",
    "        df_row=data[0][i][\"DifferenceAmp\"][0]\n",
    "        df_row=list(df_row)\n",
    "        df_row=[x.real for x in df_row]\n",
    "        try:\n",
    "            d1=data[0][i][\"Distance\"][0][0]\n",
    "        except:\n",
    "            d1=-1\n",
    "        try:\n",
    "            d2=data[0][i][\"Distance\"][0][-1]\n",
    "        except:\n",
    "            d2=-1\n",
    "        if zone == 0:\n",
    "            intru= 0\n",
    "        else :\n",
    "            intru =1\n",
    "\n",
    "        df_row.extend([d1,d2,intru,zone])\n",
    "        df.loc[len(df.index)] = df_row\n",
    "df.to_csv('otdr_data/otdr_dataset.csv')"
   ]
  }
 ],
 "metadata": {
  "kernelspec": {
   "display_name": "base",
   "language": "python",
   "name": "python3"
  },
  "language_info": {
   "codemirror_mode": {
    "name": "ipython",
    "version": 3
   },
   "file_extension": ".py",
   "mimetype": "text/x-python",
   "name": "python",
   "nbconvert_exporter": "python",
   "pygments_lexer": "ipython3",
   "version": "3.11.3"
  }
 },
 "nbformat": 4,
 "nbformat_minor": 2
}
